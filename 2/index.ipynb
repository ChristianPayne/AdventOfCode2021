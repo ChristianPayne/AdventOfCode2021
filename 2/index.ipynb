{
 "cells": [
  {
   "cell_type": "markdown",
   "metadata": {},
   "source": [
    "### Load Input"
   ]
  },
  {
   "cell_type": "code",
   "execution_count": 11,
   "metadata": {},
   "outputs": [],
   "source": [
    "import csv\n",
    "\n",
    "data = []\n",
    "with open('./input.txt') as csv_file:\n",
    "    csv = csv.reader(csv_file, delimiter=' ')\n",
    "    for row in csv:\n",
    "        data.append(row)"
   ]
  },
  {
   "cell_type": "markdown",
   "metadata": {},
   "source": [
    "### Calculate Challenge 1"
   ]
  },
  {
   "cell_type": "code",
   "execution_count": 19,
   "metadata": {},
   "outputs": [
    {
     "name": "stdout",
     "output_type": "stream",
     "text": [
      "Final coordinates are [1925, 879]\n",
      "Final calculation is 1692075!\n"
     ]
    }
   ],
   "source": [
    "position = [0,0]\n",
    "\n",
    "for row in data:\n",
    "  direction = row[0]\n",
    "  units = int(row[1])\n",
    "  if(direction == \"forward\"):\n",
    "    position[0] = position[0] + units\n",
    "  if(direction == \"down\"):\n",
    "    position[1] = position[1] + units\n",
    "  if(direction == \"up\"):\n",
    "    position[1] = position[1] - units\n",
    "\n",
    "print(f\"Final coordinates are {position}\")\n",
    "print(f\"Final calculation is {position[0] * position[1]}!\")"
   ]
  },
  {
   "cell_type": "markdown",
   "metadata": {},
   "source": [
    "### Calculate Challenge 2"
   ]
  },
  {
   "cell_type": "code",
   "execution_count": 21,
   "metadata": {},
   "outputs": [
    {
     "name": "stdout",
     "output_type": "stream",
     "text": [
      "Final coordinates are [1925, 908844]\n",
      "Final calculation is 1749524700!\n"
     ]
    }
   ],
   "source": [
    "position = [0,0]\n",
    "aim = 0\n",
    "\n",
    "for row in data:\n",
    "  direction = row[0]\n",
    "  units = int(row[1])\n",
    "  if(direction == \"forward\"):\n",
    "    position[0] = position[0] + units\n",
    "    position[1] = position[1] + (aim * units)\n",
    "  if(direction == \"down\"):\n",
    "    aim = aim + units\n",
    "  if(direction == \"up\"):\n",
    "    aim = aim - units\n",
    "\n",
    "print(f\"Final coordinates are {position}\")\n",
    "print(f\"Final calculation is {position[0] * position[1]}!\")"
   ]
  }
 ],
 "metadata": {
  "interpreter": {
   "hash": "155a67596a924c46266dacbaffd1e02cd491152b89937213bf1e9370420e63e8"
  },
  "kernelspec": {
   "display_name": "Python 3.9.9 64-bit (windows store)",
   "language": "python",
   "name": "python3"
  },
  "language_info": {
   "codemirror_mode": {
    "name": "ipython",
    "version": 3
   },
   "file_extension": ".py",
   "mimetype": "text/x-python",
   "name": "python",
   "nbconvert_exporter": "python",
   "pygments_lexer": "ipython3",
   "version": "3.9.6"
  },
  "orig_nbformat": 4
 },
 "nbformat": 4,
 "nbformat_minor": 2
}
